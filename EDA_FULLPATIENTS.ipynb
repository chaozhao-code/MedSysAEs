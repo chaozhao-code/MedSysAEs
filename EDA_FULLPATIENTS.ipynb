{
 "cells": [
  {
   "cell_type": "code",
   "id": "initial_id",
   "metadata": {
    "collapsed": true,
    "ExecuteTime": {
     "end_time": "2024-12-08T21:31:29.347164Z",
     "start_time": "2024-12-08T21:31:29.345116Z"
    }
   },
   "source": [
    "import json\n",
    "from collections import OrderedDict, Counter"
   ],
   "outputs": [],
   "execution_count": 4
  },
  {
   "metadata": {
    "ExecuteTime": {
     "end_time": "2024-12-08T21:31:26.969687Z",
     "start_time": "2024-12-08T21:31:05.689347Z"
    }
   },
   "cell_type": "code",
   "source": [
    "def load(path):\n",
    "    \"\"\" Loads a single file \"\"\"\n",
    "    with open(path, 'r') as fhandle:\n",
    "        obj = [json.loads(line.rstrip('\\n')) for line in fhandle]\n",
    "    return obj\n",
    "\n",
    "patients = load('patients_full.json')\n",
    "# with open('patients_full.json', encoding='utf-8') as f:\n",
    "    # data = json.load(f)"
   ],
   "id": "7a4c5a3a992b2aac",
   "outputs": [],
   "execution_count": 2
  },
  {
   "metadata": {
    "ExecuteTime": {
     "end_time": "2024-12-08T21:31:27.033776Z",
     "start_time": "2024-12-08T21:31:26.971039Z"
    }
   },
   "cell_type": "code",
   "source": [
    "gender = set()\n",
    "icd9_code_p_lst = []\n",
    "icd9_code_d_lst = []\n",
    "ethnicity_grouped = set()\n",
    "admission_type = set()\n",
    "for patient in patients:\n",
    "    for code in patient['icd9_code_p_lst']:\n",
    "        icd9_code_p_lst.append(code)\n",
    "    for code in patient['icd9_code_d_lst']:\n",
    "        icd9_code_d_lst.append(code)\n",
    "    \n",
    "    # gender.add(patient['gender'])\n",
    "    # ethnicity_grouped.add(patient['ethnicity_grouped'])\n",
    "    # admission_type.add(patient['admission_type'])"
   ],
   "id": "bb1b083a320d70ed",
   "outputs": [],
   "execution_count": 3
  },
  {
   "metadata": {
    "ExecuteTime": {
     "end_time": "2024-12-08T21:31:44.824930Z",
     "start_time": "2024-12-08T21:31:44.804485Z"
    }
   },
   "cell_type": "code",
   "source": "x = Counter(icd9_code_p_lst).most_common(len(icd9_code_p_lst))",
   "id": "fe40ccc342bc4184",
   "outputs": [],
   "execution_count": 5
  },
  {
   "metadata": {
    "ExecuteTime": {
     "end_time": "2024-12-08T21:31:51.580820Z",
     "start_time": "2024-12-08T21:31:51.576616Z"
    }
   },
   "cell_type": "code",
   "source": "len(x)",
   "id": "ea004bbd2fdae013",
   "outputs": [
    {
     "data": {
      "text/plain": [
       "1968"
      ]
     },
     "execution_count": 6,
     "metadata": {},
     "output_type": "execute_result"
    }
   ],
   "execution_count": 6
  },
  {
   "metadata": {
    "ExecuteTime": {
     "end_time": "2024-12-03T16:34:25.156323Z",
     "start_time": "2024-12-03T16:34:25.153634Z"
    }
   },
   "cell_type": "code",
   "source": "len(icd9_code_p_lst)",
   "id": "fb933d46ef71b8d2",
   "outputs": [
    {
     "data": {
      "text/plain": [
       "1968"
      ]
     },
     "execution_count": 15,
     "metadata": {},
     "output_type": "execute_result"
    }
   ],
   "execution_count": 15
  },
  {
   "metadata": {
    "ExecuteTime": {
     "end_time": "2024-12-03T16:34:34.524544Z",
     "start_time": "2024-12-03T16:34:34.521541Z"
    }
   },
   "cell_type": "code",
   "source": "len(icd9_code_d_lst)",
   "id": "c9c10e0740bdbe57",
   "outputs": [
    {
     "data": {
      "text/plain": [
       "6545"
      ]
     },
     "execution_count": 16,
     "metadata": {},
     "output_type": "execute_result"
    }
   ],
   "execution_count": 16
  },
  {
   "metadata": {
    "ExecuteTime": {
     "end_time": "2024-12-03T15:53:00.761088Z",
     "start_time": "2024-12-03T15:53:00.758759Z"
    }
   },
   "cell_type": "code",
   "source": "ethnicity_grouped",
   "id": "3a572946d839029a",
   "outputs": [
    {
     "data": {
      "text/plain": [
       "{'asian', 'black', 'hispanic', 'native', 'other', 'unknown', 'white'}"
      ]
     },
     "execution_count": 9,
     "metadata": {},
     "output_type": "execute_result"
    }
   ],
   "execution_count": 9
  },
  {
   "metadata": {
    "ExecuteTime": {
     "end_time": "2024-12-03T15:53:06.348957Z",
     "start_time": "2024-12-03T15:53:06.346752Z"
    }
   },
   "cell_type": "code",
   "source": "admission_type",
   "id": "693b3625331b005d",
   "outputs": [
    {
     "data": {
      "text/plain": [
       "{'ELECTIVE', 'EMERGENCY', 'URGENT'}"
      ]
     },
     "execution_count": 10,
     "metadata": {},
     "output_type": "execute_result"
    }
   ],
   "execution_count": 10
  },
  {
   "metadata": {
    "ExecuteTime": {
     "end_time": "2024-12-03T13:10:51.786536Z",
     "start_time": "2024-12-03T13:10:51.772501Z"
    }
   },
   "cell_type": "code",
   "source": [
    "for key, value in patient.items():\n",
    "    print(key, value)\n",
    "    break"
   ],
   "id": "8fab5e9e2eaae684",
   "outputs": [
    {
     "ename": "AttributeError",
     "evalue": "'list' object has no attribute 'items'",
     "output_type": "error",
     "traceback": [
      "\u001B[0;31m---------------------------------------------------------------------------\u001B[0m",
      "\u001B[0;31mAttributeError\u001B[0m                            Traceback (most recent call last)",
      "Cell \u001B[0;32mIn[4], line 1\u001B[0m\n\u001B[0;32m----> 1\u001B[0m \u001B[38;5;28;01mfor\u001B[39;00m key, value \u001B[38;5;129;01min\u001B[39;00m patient\u001B[38;5;241m.\u001B[39mitems():\n\u001B[1;32m      2\u001B[0m     \u001B[38;5;28mprint\u001B[39m(key, value)\n\u001B[1;32m      3\u001B[0m     \u001B[38;5;28;01mbreak\u001B[39;00m\n",
      "\u001B[0;31mAttributeError\u001B[0m: 'list' object has no attribute 'items'"
     ]
    }
   ],
   "execution_count": 4
  },
  {
   "metadata": {
    "ExecuteTime": {
     "end_time": "2024-11-05T10:12:40.904757Z",
     "start_time": "2024-11-05T10:12:40.888946Z"
    }
   },
   "cell_type": "code",
   "source": "x = {\"hadm_id\": 131073, \"age\": 84.0, \"gender\": \"M\", \"ethnicity_grouped\": \"white\", \"los_hospital\": 8.2917, \"admission_type\": \"ELECTIVE\", \"seq_num_p_len\": 1.0, \"icd9_code_p_lst\": [\"p_0159\"], \"seq_num_d_len\": 8.0, \"icd9_code_d_lst\": [\"d_2252\", \"d_25002\", \"d_78039\", \"d_2720\", \"d_4019\", \"d_41401\", \"d_412\", \"d_V4582\"], \"los_icu_len\": 1, \"los_icu_lst\": [1.0694], \"icu_stay_start_lst\": [1, 0, 0, 0, 0, 0, 0, 0, 0, 0, 0, 0, 0, 0, 0, 0, 0, 0, 0, 0, 0, 0, 0, 0, 0, 0, 0, 0, 0], \"icu_stay_stop_lst\": [0, 0, 0, 0, 0, 0, 0, 0, 0, 0, 0, 0, 0, 0, 0, 0, 0, 0, 0, 0, 0, 0, 0, 0, 0, 0, 0, 0, 1], \"heartrate_min_lst\": [0.2885, 0.281, 0.2996, 0.2773, 0.2795, 0.2847, 0.2773, 0.2885, 0.2885, 0.2736, 0.2624, 0.2959, 0.2699, 0.2773, 0.2624, 0.2624, 0.281, 0.2476, 0.281, 0.2624, 0.2699, 0.281, 0.2847, 0.2402, 0.2624, 0.2736, 0.2476, 0.2699, 0.2847], \"heartrate_max_lst\": [0.2885, 0.281, 0.2996, 0.2773, 0.2795, 0.2847, 0.2773, 0.2885, 0.2885, 0.2736, 0.2624, 0.2959, 0.2699, 0.2773, 0.2624, 0.2624, 0.281, 0.2476, 0.281, 0.2624, 0.2699, 0.281, 0.2847, 0.2402, 0.2624, 0.2736, 0.2476, 0.2699, 0.2847], \"heartrate_mean_lst\": [0.2885, 0.281, 0.2996, 0.2773, 0.2795, 0.2847, 0.2773, 0.2885, 0.2885, 0.2736, 0.2624, 0.2959, 0.2699, 0.2773, 0.2624, 0.2624, 0.281, 0.2476, 0.281, 0.2624, 0.2699, 0.281, 0.2847, 0.2402, 0.2624, 0.2736, 0.2476, 0.2699, 0.2847], \"sysbp_min_lst\": [0.4159, 0.4131, 0.32, 0.3849, 0.3951, 0.4188, 0.4696, 0.4696, 0.3623, 0.4075, 0.4103, 0.3906, 0.4357, 0.4357, 0.4808, 0.4696, 0.368, 0.3398, 0.4639, 0.4385, 0.4188, 0.3652, 0.3652, 0.4188, 0.4442, 0.4413, 0.4329, 0.4667, 0.4667], \"sysbp_max_lst\": [0.4159, 0.4131, 0.32, 0.3849, 0.3951, 0.4188, 0.4696, 0.4696, 0.3623, 0.4075, 0.4103, 0.3906, 0.4357, 0.4357, 0.4808, 0.4696, 0.4385, 0.4385, 0.4865, 0.4385, 0.478, 0.4611, 0.4554, 0.4752, 0.4442, 0.4413, 0.4329, 0.4667, 0.4667], \"sysbp_mean_lst\": [0.4159, 0.4131, 0.32, 0.3849, 0.3951, 0.4188, 0.4696, 0.4696, 0.3623, 0.4075, 0.4103, 0.3906, 0.4357, 0.4357, 0.4808, 0.4696, 0.4033, 0.3891, 0.4752, 0.4385, 0.4484, 0.4131, 0.4103, 0.447, 0.4442, 0.4413, 0.4329, 0.4667, 0.4667], \"diasbp_min_lst\": [0.2147, 0.2342, 0.1659, 0.2293, 0.2308, 0.2342, 0.2733, 0.283, 0.2147, 0.2586, 0.2098, 0.2196, 0.2196, 0.2147, 0.2342, 0.2245, 0.2049, 0.2147, 0.2586, 0.2196, 0.2293, 0.2293, 0.2293, 0.2342, 0.2147, 0.4684, 0.2537, 0.2147, 0.2391], \"diasbp_max_lst\": [0.2126, 0.232, 0.1643, 0.2271, 0.2286, 0.232, 0.2706, 0.2803, 0.2126, 0.2561, 0.2078, 0.2175, 0.2175, 0.2126, 0.232, 0.2223, 0.2126, 0.3383, 0.2996, 0.2175, 0.2368, 0.2561, 0.2416, 0.2513, 0.2126, 0.4639, 0.2513, 0.2126, 0.2368], \"diasbp_mean_lst\": [0.2148, 0.2344, 0.166, 0.2295, 0.231, 0.2344, 0.2734, 0.2832, 0.2148, 0.2588, 0.21, 0.2197, 0.2197, 0.2148, 0.2344, 0.2246, 0.21, 0.2783, 0.2808, 0.2197, 0.2344, 0.2441, 0.2368, 0.2441, 0.2148, 0.4687, 0.2539, 0.2148, 0.2393], \"meanbp_min_lst\": [0.3022, 0.3185, 0.2246, 0.2981, 0.3067, 0.3267, 0.3839, 0.3921, 0.2859, 0.3594, 0.2981, 0.3022, 0.3104, 0.3063, 0.3349, 0.3308, 0.2913, 0.3185, 0.3757, 0.339, 0.3294, 0.3036, 0.3036, 0.3322, 0.3335, 0.4737, 0.3499, 0.3444, 0.358], \"meanbp_max_lst\": [0.2962, 0.3122, 0.2201, 0.2921, 0.3006, 0.3202, 0.3762, 0.3842, 0.2801, 0.3522, 0.2921, 0.2962, 0.3042, 0.3002, 0.3282, 0.3242, 0.3122, 0.3468, 0.3842, 0.3322, 0.3642, 0.3802, 0.3642, 0.3682, 0.3268, 0.4642, 0.3428, 0.3375, 0.3508], \"meanbp_mean_lst\": [0.3015, 0.3178, 0.2241, 0.2974, 0.306, 0.3259, 0.383, 0.3911, 0.2852, 0.3585, 0.2974, 0.3015, 0.3096, 0.3056, 0.3341, 0.33, 0.3042, 0.3354, 0.383, 0.3381, 0.3497, 0.3449, 0.3368, 0.3531, 0.3327, 0.4726, 0.349, 0.3436, 0.3572], \"resprate_min_lst\": [0.3134, 0.2537, 0.2537, 0.1642, 0.2134, 0.3284, 0.2239, 0.2836, 0.2687, 0.2537, 0.1493, 0.2836, 0.2537, 0.2388, 0.2836, 0.3134, 0.2537, 0.209, 0.2687, 0.2985, 0.3134, 0.2836, 0.2687, 0.2985, 0.2985, 0.3134, 0.3134, 0.2836, 0.2985], \"resprate_max_lst\": [0.3088, 0.25, 0.25, 0.1618, 0.2103, 0.3235, 0.2206, 0.2794, 0.2647, 0.25, 0.1471, 0.2794, 0.25, 0.2353, 0.2794, 0.3088, 0.25, 0.2059, 0.2647, 0.2941, 0.3088, 0.2794, 0.2647, 0.2941, 0.2941, 0.3088, 0.3088, 0.2794, 0.2941], \"resprate_mean_lst\": [0.3134, 0.2537, 0.2537, 0.1642, 0.2134, 0.3284, 0.2239, 0.2836, 0.2687, 0.2537, 0.1493, 0.2836, 0.2537, 0.2388, 0.2836, 0.3134, 0.2537, 0.209, 0.2687, 0.2985, 0.3134, 0.2836, 0.2687, 0.2985, 0.2985, 0.3134, 0.3134, 0.2836, 0.2985], \"tempc_min_lst\": [0.6719, 0.6726, 0.6733, 0.6748, 0.6752, 0.6762, 0.6765, 0.6769, 0.6776, 0.679, 0.6805, 0.662, 0.6435, 0.6251, 0.6261, 0.6272, 0.6283, 0.6293, 0.64, 0.6506, 0.6542, 0.6586, 0.6613, 0.6719, 0.6767, 0.6911, 0.7103, 0.7486, 0.7486], \"tempc_max_lst\": [0.6718, 0.6725, 0.6732, 0.6746, 0.6751, 0.6761, 0.6764, 0.6768, 0.6775, 0.6789, 0.6803, 0.6619, 0.6434, 0.6249, 0.626, 0.6271, 0.6281, 0.6292, 0.6398, 0.6505, 0.654, 0.6585, 0.6611, 0.6718, 0.6766, 0.691, 0.7102, 0.7485, 0.7485], \"tempc_mean_lst\": [0.6718, 0.6725, 0.6733, 0.6747, 0.6751, 0.6761, 0.6765, 0.6768, 0.6775, 0.6789, 0.6804, 0.6619, 0.6434, 0.625, 0.626, 0.6271, 0.6282, 0.6292, 0.6399, 0.6505, 0.6541, 0.6585, 0.6612, 0.6718, 0.6766, 0.691, 0.7102, 0.7486, 0.7486], \"spo2_min_lst\": [0.9471, 0.9736, 0.9471, 0.9471, 0.9471, 0.9471, 0.8942, 0.9736, 0.9207, 0.9471, 1.0, 0.9471, 0.9471, 0.9471, 0.9736, 0.9736, 0.9736, 0.9471, 0.8942, 0.9207, 0.9471, 0.8942, 0.8678, 0.9207, 0.9471, 0.9207, 0.9471, 0.8678, 0.8414], \"spo2_max_lst\": [0.9471, 0.9736, 0.9471, 0.9471, 0.9471, 0.9471, 0.8942, 0.9736, 0.9207, 0.9471, 1.0, 0.9471, 0.9471, 0.9471, 0.9736, 0.9736, 0.9736, 0.9471, 0.8942, 0.9207, 0.9471, 0.8942, 0.8678, 0.9207, 0.9471, 0.9207, 0.9471, 0.8678, 0.8414], \"spo2_mean_lst\": [0.9471, 0.9736, 0.9471, 0.9471, 0.9471, 0.9471, 0.8942, 0.9736, 0.9207, 0.9471, 1.0, 0.9471, 0.9471, 0.9471, 0.9736, 0.9736, 0.9736, 0.9471, 0.8942, 0.9207, 0.9471, 0.8942, 0.8678, 0.9207, 0.9471, 0.9207, 0.9471, 0.8678, 0.8414], \"glucose_min_lst\": [0.0172, 0.0172, 0.0172, 0.0172, 0.0172, 0.0172, 0.0172, 0.0172, 0.0172, 0.0172, 0.0172, 0.0173, 0.0172, 0.017, 0.0169, 0.0169, 0.0169, 0.0169, 0.0169, 0.0169, 0.0169, 0.0169, 0.0169, 0.0169, 0.0169, 0.0169, 0.0169, 0.0169, 0.0169], \"glucose_max_lst\": [0.0172, 0.0172, 0.0172, 0.0172, 0.0172, 0.0172, 0.0172, 0.0172, 0.0172, 0.0172, 0.0172, 0.0173, 0.0172, 0.017, 0.0169, 0.0169, 0.0169, 0.0169, 0.0169, 0.0169, 0.0169, 0.0169, 0.0169, 0.0169, 0.0169, 0.0169, 0.0169, 0.0169, 0.0169], \"glucose_mean_lst\": [0.0172, 0.0172, 0.0172, 0.0172, 0.0172, 0.0172, 0.0172, 0.0172, 0.0172, 0.0172, 0.0172, 0.0173, 0.0172, 0.017, 0.0169, 0.0169, 0.0169, 0.0169, 0.0169, 0.0169, 0.0169, 0.0169, 0.0169, 0.0169, 0.0169, 0.0169, 0.0169, 0.0169, 0.0169], \"time_mins_lst\": [0.0, 30.0, 60.0, 120.0, 138.0, 180.0, 195.0, 210.0, 240.0, 300.0, 360.0, 420.0, 480.0, 540.0, 600.0, 660.0, 720.0, 780.0, 840.0, 900.0, 920.0, 945.0, 960.0, 1020.0, 1035.0, 1080.0, 1140.0, 1260.0, 1320.0], \"heartrate_min_lst_slope\": -0.0, \"heartrate_max_lst_slope\": -0.0, \"heartrate_mean_lst_slope\": -0.0, \"sysbp_min_lst_slope\": 0.0, \"sysbp_max_lst_slope\": 0.0001, \"sysbp_mean_lst_slope\": 0.0, \"diasbp_min_lst_slope\": 0.0, \"diasbp_max_lst_slope\": 0.0, \"diasbp_mean_lst_slope\": 0.0, \"meanbp_min_lst_slope\": 0.0, \"meanbp_max_lst_slope\": 0.0001, \"meanbp_mean_lst_slope\": 0.0001, \"resprate_min_lst_slope\": 0.0, \"resprate_max_lst_slope\": 0.0, \"resprate_mean_lst_slope\": 0.0, \"tempc_min_lst_slope\": 0.0, \"tempc_max_lst_slope\": 0.0, \"tempc_mean_lst_slope\": 0.0, \"spo2_min_lst_slope\": -0.0, \"spo2_max_lst_slope\": -0.0, \"spo2_mean_lst_slope\": -0.0, \"glucose_min_lst_slope\": -0.0, \"glucose_max_lst_slope\": -0.0, \"glucose_mean_lst_slope\": -0.0, \"heartrate_min_lst_mean\": 0.2743, \"heartrate_max_lst_mean\": 0.2743, \"heartrate_mean_lst_mean\": 0.2743, \"sysbp_min_lst_mean\": 0.4176, \"sysbp_max_lst_mean\": 0.4346, \"sysbp_mean_lst_mean\": 0.4261, \"diasbp_min_lst_mean\": 0.237, \"diasbp_max_lst_mean\": 0.2434, \"diasbp_mean_lst_mean\": 0.2415, \"meanbp_min_lst_mean\": 0.3287, \"meanbp_max_lst_mean\": 0.3329, \"meanbp_mean_lst_mean\": 0.3334, \"resprate_min_lst_mean\": 0.2683, \"resprate_max_lst_mean\": 0.2644, \"resprate_mean_lst_mean\": 0.2683, \"tempc_min_lst_mean\": 0.6686, \"tempc_max_lst_mean\": 0.6684, \"tempc_mean_lst_mean\": 0.6685, \"spo2_min_lst_mean\": 0.9353, \"spo2_max_lst_mean\": 0.9353, \"spo2_mean_lst_mean\": 0.9353, \"glucose_min_lst_mean\": 0.0171, \"glucose_max_lst_mean\": 0.0171, \"glucose_mean_lst_mean\": 0.0171, \"heartrate_min_lst_sd\": 0.0139, \"heartrate_max_lst_sd\": 0.0139, \"heartrate_mean_lst_sd\": 0.0139, \"sysbp_min_lst_sd\": 0.0418, \"sysbp_max_lst_sd\": 0.0381, \"sysbp_mean_lst_sd\": 0.0365, \"diasbp_min_lst_sd\": 0.0489, \"diasbp_max_lst_sd\": 0.0525, \"diasbp_mean_lst_sd\": 0.0495, \"meanbp_min_lst_sd\": 0.0428, \"meanbp_max_lst_sd\": 0.0441, \"meanbp_mean_lst_sd\": 0.0424, \"resprate_min_lst_sd\": 0.0432, \"resprate_max_lst_sd\": 0.0425, \"resprate_mean_lst_sd\": 0.0432, \"tempc_min_lst_sd\": 0.0303, \"tempc_max_lst_sd\": 0.0303, \"tempc_mean_lst_sd\": 0.0303, \"spo2_min_lst_sd\": 0.0358, \"spo2_max_lst_sd\": 0.0358, \"spo2_mean_lst_sd\": 0.0358, \"glucose_min_lst_sd\": 0.0001, \"glucose_max_lst_sd\": 0.0001, \"glucose_mean_lst_sd\": 0.0001, \"heartrate_min_lst_delta\": -0.0001, \"heartrate_max_lst_delta\": -0.0001, \"heartrate_mean_lst_delta\": -0.0001, \"sysbp_min_lst_delta\": 0.0, \"sysbp_max_lst_delta\": 0.0, \"sysbp_mean_lst_delta\": 0.0, \"diasbp_min_lst_delta\": -0.0001, \"diasbp_max_lst_delta\": -0.0, \"diasbp_mean_lst_delta\": -0.0001, \"meanbp_min_lst_delta\": -0.0001, \"meanbp_max_lst_delta\": -0.0, \"meanbp_mean_lst_delta\": -0.0, \"resprate_min_lst_delta\": 0.0001, \"resprate_max_lst_delta\": 0.0001, \"resprate_mean_lst_delta\": 0.0001, \"tempc_min_lst_delta\": -0.0001, \"tempc_max_lst_delta\": -0.0001, \"tempc_mean_lst_delta\": -0.0001, \"spo2_min_lst_delta\": 0.0, \"spo2_max_lst_delta\": 0.0, \"spo2_mean_lst_delta\": 0.0, \"glucose_min_lst_delta\": 0.0, \"glucose_max_lst_delta\": 0.0, \"glucose_mean_lst_delta\": 0.0, \"heartrate_min_lst_min\": 0.2402, \"heartrate_max_lst_min\": 0.2402, \"heartrate_mean_lst_min\": 0.2402, \"sysbp_min_lst_min\": 0.32, \"sysbp_max_lst_min\": 0.32, \"sysbp_mean_lst_min\": 0.32, \"diasbp_min_lst_min\": 0.1659, \"diasbp_max_lst_min\": 0.1643, \"diasbp_mean_lst_min\": 0.166, \"meanbp_min_lst_min\": 0.2246, \"meanbp_max_lst_min\": 0.2201, \"meanbp_mean_lst_min\": 0.2241, \"resprate_min_lst_min\": 0.1493, \"resprate_max_lst_min\": 0.1471, \"resprate_mean_lst_min\": 0.1493, \"tempc_min_lst_min\": 0.6251, \"tempc_max_lst_min\": 0.6249, \"tempc_mean_lst_min\": 0.625, \"spo2_min_lst_min\": 0.8414, \"spo2_max_lst_min\": 0.8414, \"spo2_mean_lst_min\": 0.8414, \"glucose_min_lst_min\": 0.0169, \"glucose_max_lst_min\": 0.0169, \"glucose_mean_lst_min\": 0.0169, \"heartrate_min_lst_max\": 0.2996, \"heartrate_max_lst_max\": 0.2996, \"heartrate_mean_lst_max\": 0.2996, \"sysbp_min_lst_max\": 0.4808, \"sysbp_max_lst_max\": 0.4865, \"sysbp_mean_lst_max\": 0.4808, \"diasbp_min_lst_max\": 0.4684, \"diasbp_max_lst_max\": 0.4639, \"diasbp_mean_lst_max\": 0.4687, \"meanbp_min_lst_max\": 0.4737, \"meanbp_max_lst_max\": 0.4642, \"meanbp_mean_lst_max\": 0.4726, \"resprate_min_lst_max\": 0.3284, \"resprate_max_lst_max\": 0.3235, \"resprate_mean_lst_max\": 0.3284, \"tempc_min_lst_max\": 0.7486, \"tempc_max_lst_max\": 0.7485, \"tempc_mean_lst_max\": 0.7486, \"spo2_min_lst_max\": 1.0, \"spo2_max_lst_max\": 1.0, \"spo2_mean_lst_max\": 1.0, \"glucose_min_lst_max\": 0.0173, \"glucose_max_lst_max\": 0.0173, \"glucose_mean_lst_max\": 0.0173, \"heartrate_min_lst_mm\": 0, \"heartrate_max_lst_mm\": 0, \"heartrate_mean_lst_mm\": 0, \"sysbp_min_lst_mm\": 0, \"sysbp_max_lst_mm\": 0, \"sysbp_mean_lst_mm\": 0, \"diasbp_min_lst_mm\": 0, \"diasbp_max_lst_mm\": 0, \"diasbp_mean_lst_mm\": 0, \"meanbp_min_lst_mm\": 0, \"meanbp_max_lst_mm\": 0, \"meanbp_mean_lst_mm\": 0, \"resprate_min_lst_mm\": 0, \"resprate_max_lst_mm\": 0, \"resprate_mean_lst_mm\": 0, \"tempc_min_lst_mm\": 0, \"tempc_max_lst_mm\": 0, \"tempc_mean_lst_mm\": 0, \"spo2_min_lst_mm\": 0, \"spo2_max_lst_mm\": 0, \"spo2_mean_lst_mm\": 0, \"glucose_min_lst_mm\": 0, \"glucose_max_lst_mm\": 0, \"glucose_mean_lst_mm\": 0, \"ndc_list\": []}",
   "id": "cc87a3c347b23346",
   "outputs": [],
   "execution_count": 9
  },
  {
   "metadata": {
    "ExecuteTime": {
     "end_time": "2024-11-05T10:20:43.185632Z",
     "start_time": "2024-11-05T10:20:43.182962Z"
    }
   },
   "cell_type": "code",
   "source": [
    "for key, value in x.items():\n",
    "    print(key, \": \", value)"
   ],
   "id": "1191011454404e17",
   "outputs": [
    {
     "name": "stdout",
     "output_type": "stream",
     "text": [
      "hadm_id :  131073\n",
      "age :  84.0\n",
      "gender :  M\n",
      "ethnicity_grouped :  white\n",
      "los_hospital :  8.2917\n",
      "admission_type :  ELECTIVE\n",
      "seq_num_p_len :  1.0\n",
      "icd9_code_p_lst :  ['p_0159']\n",
      "seq_num_d_len :  8.0\n",
      "icd9_code_d_lst :  ['d_2252', 'd_25002', 'd_78039', 'd_2720', 'd_4019', 'd_41401', 'd_412', 'd_V4582']\n",
      "los_icu_len :  1\n",
      "los_icu_lst :  [1.0694]\n",
      "icu_stay_start_lst :  [1, 0, 0, 0, 0, 0, 0, 0, 0, 0, 0, 0, 0, 0, 0, 0, 0, 0, 0, 0, 0, 0, 0, 0, 0, 0, 0, 0, 0]\n",
      "icu_stay_stop_lst :  [0, 0, 0, 0, 0, 0, 0, 0, 0, 0, 0, 0, 0, 0, 0, 0, 0, 0, 0, 0, 0, 0, 0, 0, 0, 0, 0, 0, 1]\n",
      "heartrate_min_lst :  [0.2885, 0.281, 0.2996, 0.2773, 0.2795, 0.2847, 0.2773, 0.2885, 0.2885, 0.2736, 0.2624, 0.2959, 0.2699, 0.2773, 0.2624, 0.2624, 0.281, 0.2476, 0.281, 0.2624, 0.2699, 0.281, 0.2847, 0.2402, 0.2624, 0.2736, 0.2476, 0.2699, 0.2847]\n",
      "heartrate_max_lst :  [0.2885, 0.281, 0.2996, 0.2773, 0.2795, 0.2847, 0.2773, 0.2885, 0.2885, 0.2736, 0.2624, 0.2959, 0.2699, 0.2773, 0.2624, 0.2624, 0.281, 0.2476, 0.281, 0.2624, 0.2699, 0.281, 0.2847, 0.2402, 0.2624, 0.2736, 0.2476, 0.2699, 0.2847]\n",
      "heartrate_mean_lst :  [0.2885, 0.281, 0.2996, 0.2773, 0.2795, 0.2847, 0.2773, 0.2885, 0.2885, 0.2736, 0.2624, 0.2959, 0.2699, 0.2773, 0.2624, 0.2624, 0.281, 0.2476, 0.281, 0.2624, 0.2699, 0.281, 0.2847, 0.2402, 0.2624, 0.2736, 0.2476, 0.2699, 0.2847]\n",
      "sysbp_min_lst :  [0.4159, 0.4131, 0.32, 0.3849, 0.3951, 0.4188, 0.4696, 0.4696, 0.3623, 0.4075, 0.4103, 0.3906, 0.4357, 0.4357, 0.4808, 0.4696, 0.368, 0.3398, 0.4639, 0.4385, 0.4188, 0.3652, 0.3652, 0.4188, 0.4442, 0.4413, 0.4329, 0.4667, 0.4667]\n",
      "sysbp_max_lst :  [0.4159, 0.4131, 0.32, 0.3849, 0.3951, 0.4188, 0.4696, 0.4696, 0.3623, 0.4075, 0.4103, 0.3906, 0.4357, 0.4357, 0.4808, 0.4696, 0.4385, 0.4385, 0.4865, 0.4385, 0.478, 0.4611, 0.4554, 0.4752, 0.4442, 0.4413, 0.4329, 0.4667, 0.4667]\n",
      "sysbp_mean_lst :  [0.4159, 0.4131, 0.32, 0.3849, 0.3951, 0.4188, 0.4696, 0.4696, 0.3623, 0.4075, 0.4103, 0.3906, 0.4357, 0.4357, 0.4808, 0.4696, 0.4033, 0.3891, 0.4752, 0.4385, 0.4484, 0.4131, 0.4103, 0.447, 0.4442, 0.4413, 0.4329, 0.4667, 0.4667]\n",
      "diasbp_min_lst :  [0.2147, 0.2342, 0.1659, 0.2293, 0.2308, 0.2342, 0.2733, 0.283, 0.2147, 0.2586, 0.2098, 0.2196, 0.2196, 0.2147, 0.2342, 0.2245, 0.2049, 0.2147, 0.2586, 0.2196, 0.2293, 0.2293, 0.2293, 0.2342, 0.2147, 0.4684, 0.2537, 0.2147, 0.2391]\n",
      "diasbp_max_lst :  [0.2126, 0.232, 0.1643, 0.2271, 0.2286, 0.232, 0.2706, 0.2803, 0.2126, 0.2561, 0.2078, 0.2175, 0.2175, 0.2126, 0.232, 0.2223, 0.2126, 0.3383, 0.2996, 0.2175, 0.2368, 0.2561, 0.2416, 0.2513, 0.2126, 0.4639, 0.2513, 0.2126, 0.2368]\n",
      "diasbp_mean_lst :  [0.2148, 0.2344, 0.166, 0.2295, 0.231, 0.2344, 0.2734, 0.2832, 0.2148, 0.2588, 0.21, 0.2197, 0.2197, 0.2148, 0.2344, 0.2246, 0.21, 0.2783, 0.2808, 0.2197, 0.2344, 0.2441, 0.2368, 0.2441, 0.2148, 0.4687, 0.2539, 0.2148, 0.2393]\n",
      "meanbp_min_lst :  [0.3022, 0.3185, 0.2246, 0.2981, 0.3067, 0.3267, 0.3839, 0.3921, 0.2859, 0.3594, 0.2981, 0.3022, 0.3104, 0.3063, 0.3349, 0.3308, 0.2913, 0.3185, 0.3757, 0.339, 0.3294, 0.3036, 0.3036, 0.3322, 0.3335, 0.4737, 0.3499, 0.3444, 0.358]\n",
      "meanbp_max_lst :  [0.2962, 0.3122, 0.2201, 0.2921, 0.3006, 0.3202, 0.3762, 0.3842, 0.2801, 0.3522, 0.2921, 0.2962, 0.3042, 0.3002, 0.3282, 0.3242, 0.3122, 0.3468, 0.3842, 0.3322, 0.3642, 0.3802, 0.3642, 0.3682, 0.3268, 0.4642, 0.3428, 0.3375, 0.3508]\n",
      "meanbp_mean_lst :  [0.3015, 0.3178, 0.2241, 0.2974, 0.306, 0.3259, 0.383, 0.3911, 0.2852, 0.3585, 0.2974, 0.3015, 0.3096, 0.3056, 0.3341, 0.33, 0.3042, 0.3354, 0.383, 0.3381, 0.3497, 0.3449, 0.3368, 0.3531, 0.3327, 0.4726, 0.349, 0.3436, 0.3572]\n",
      "resprate_min_lst :  [0.3134, 0.2537, 0.2537, 0.1642, 0.2134, 0.3284, 0.2239, 0.2836, 0.2687, 0.2537, 0.1493, 0.2836, 0.2537, 0.2388, 0.2836, 0.3134, 0.2537, 0.209, 0.2687, 0.2985, 0.3134, 0.2836, 0.2687, 0.2985, 0.2985, 0.3134, 0.3134, 0.2836, 0.2985]\n",
      "resprate_max_lst :  [0.3088, 0.25, 0.25, 0.1618, 0.2103, 0.3235, 0.2206, 0.2794, 0.2647, 0.25, 0.1471, 0.2794, 0.25, 0.2353, 0.2794, 0.3088, 0.25, 0.2059, 0.2647, 0.2941, 0.3088, 0.2794, 0.2647, 0.2941, 0.2941, 0.3088, 0.3088, 0.2794, 0.2941]\n",
      "resprate_mean_lst :  [0.3134, 0.2537, 0.2537, 0.1642, 0.2134, 0.3284, 0.2239, 0.2836, 0.2687, 0.2537, 0.1493, 0.2836, 0.2537, 0.2388, 0.2836, 0.3134, 0.2537, 0.209, 0.2687, 0.2985, 0.3134, 0.2836, 0.2687, 0.2985, 0.2985, 0.3134, 0.3134, 0.2836, 0.2985]\n",
      "tempc_min_lst :  [0.6719, 0.6726, 0.6733, 0.6748, 0.6752, 0.6762, 0.6765, 0.6769, 0.6776, 0.679, 0.6805, 0.662, 0.6435, 0.6251, 0.6261, 0.6272, 0.6283, 0.6293, 0.64, 0.6506, 0.6542, 0.6586, 0.6613, 0.6719, 0.6767, 0.6911, 0.7103, 0.7486, 0.7486]\n",
      "tempc_max_lst :  [0.6718, 0.6725, 0.6732, 0.6746, 0.6751, 0.6761, 0.6764, 0.6768, 0.6775, 0.6789, 0.6803, 0.6619, 0.6434, 0.6249, 0.626, 0.6271, 0.6281, 0.6292, 0.6398, 0.6505, 0.654, 0.6585, 0.6611, 0.6718, 0.6766, 0.691, 0.7102, 0.7485, 0.7485]\n",
      "tempc_mean_lst :  [0.6718, 0.6725, 0.6733, 0.6747, 0.6751, 0.6761, 0.6765, 0.6768, 0.6775, 0.6789, 0.6804, 0.6619, 0.6434, 0.625, 0.626, 0.6271, 0.6282, 0.6292, 0.6399, 0.6505, 0.6541, 0.6585, 0.6612, 0.6718, 0.6766, 0.691, 0.7102, 0.7486, 0.7486]\n",
      "spo2_min_lst :  [0.9471, 0.9736, 0.9471, 0.9471, 0.9471, 0.9471, 0.8942, 0.9736, 0.9207, 0.9471, 1.0, 0.9471, 0.9471, 0.9471, 0.9736, 0.9736, 0.9736, 0.9471, 0.8942, 0.9207, 0.9471, 0.8942, 0.8678, 0.9207, 0.9471, 0.9207, 0.9471, 0.8678, 0.8414]\n",
      "spo2_max_lst :  [0.9471, 0.9736, 0.9471, 0.9471, 0.9471, 0.9471, 0.8942, 0.9736, 0.9207, 0.9471, 1.0, 0.9471, 0.9471, 0.9471, 0.9736, 0.9736, 0.9736, 0.9471, 0.8942, 0.9207, 0.9471, 0.8942, 0.8678, 0.9207, 0.9471, 0.9207, 0.9471, 0.8678, 0.8414]\n",
      "spo2_mean_lst :  [0.9471, 0.9736, 0.9471, 0.9471, 0.9471, 0.9471, 0.8942, 0.9736, 0.9207, 0.9471, 1.0, 0.9471, 0.9471, 0.9471, 0.9736, 0.9736, 0.9736, 0.9471, 0.8942, 0.9207, 0.9471, 0.8942, 0.8678, 0.9207, 0.9471, 0.9207, 0.9471, 0.8678, 0.8414]\n",
      "glucose_min_lst :  [0.0172, 0.0172, 0.0172, 0.0172, 0.0172, 0.0172, 0.0172, 0.0172, 0.0172, 0.0172, 0.0172, 0.0173, 0.0172, 0.017, 0.0169, 0.0169, 0.0169, 0.0169, 0.0169, 0.0169, 0.0169, 0.0169, 0.0169, 0.0169, 0.0169, 0.0169, 0.0169, 0.0169, 0.0169]\n",
      "glucose_max_lst :  [0.0172, 0.0172, 0.0172, 0.0172, 0.0172, 0.0172, 0.0172, 0.0172, 0.0172, 0.0172, 0.0172, 0.0173, 0.0172, 0.017, 0.0169, 0.0169, 0.0169, 0.0169, 0.0169, 0.0169, 0.0169, 0.0169, 0.0169, 0.0169, 0.0169, 0.0169, 0.0169, 0.0169, 0.0169]\n",
      "glucose_mean_lst :  [0.0172, 0.0172, 0.0172, 0.0172, 0.0172, 0.0172, 0.0172, 0.0172, 0.0172, 0.0172, 0.0172, 0.0173, 0.0172, 0.017, 0.0169, 0.0169, 0.0169, 0.0169, 0.0169, 0.0169, 0.0169, 0.0169, 0.0169, 0.0169, 0.0169, 0.0169, 0.0169, 0.0169, 0.0169]\n",
      "time_mins_lst :  [0.0, 30.0, 60.0, 120.0, 138.0, 180.0, 195.0, 210.0, 240.0, 300.0, 360.0, 420.0, 480.0, 540.0, 600.0, 660.0, 720.0, 780.0, 840.0, 900.0, 920.0, 945.0, 960.0, 1020.0, 1035.0, 1080.0, 1140.0, 1260.0, 1320.0]\n",
      "heartrate_min_lst_slope :  -0.0\n",
      "heartrate_max_lst_slope :  -0.0\n",
      "heartrate_mean_lst_slope :  -0.0\n",
      "sysbp_min_lst_slope :  0.0\n",
      "sysbp_max_lst_slope :  0.0001\n",
      "sysbp_mean_lst_slope :  0.0\n",
      "diasbp_min_lst_slope :  0.0\n",
      "diasbp_max_lst_slope :  0.0\n",
      "diasbp_mean_lst_slope :  0.0\n",
      "meanbp_min_lst_slope :  0.0\n",
      "meanbp_max_lst_slope :  0.0001\n",
      "meanbp_mean_lst_slope :  0.0001\n",
      "resprate_min_lst_slope :  0.0\n",
      "resprate_max_lst_slope :  0.0\n",
      "resprate_mean_lst_slope :  0.0\n",
      "tempc_min_lst_slope :  0.0\n",
      "tempc_max_lst_slope :  0.0\n",
      "tempc_mean_lst_slope :  0.0\n",
      "spo2_min_lst_slope :  -0.0\n",
      "spo2_max_lst_slope :  -0.0\n",
      "spo2_mean_lst_slope :  -0.0\n",
      "glucose_min_lst_slope :  -0.0\n",
      "glucose_max_lst_slope :  -0.0\n",
      "glucose_mean_lst_slope :  -0.0\n",
      "heartrate_min_lst_mean :  0.2743\n",
      "heartrate_max_lst_mean :  0.2743\n",
      "heartrate_mean_lst_mean :  0.2743\n",
      "sysbp_min_lst_mean :  0.4176\n",
      "sysbp_max_lst_mean :  0.4346\n",
      "sysbp_mean_lst_mean :  0.4261\n",
      "diasbp_min_lst_mean :  0.237\n",
      "diasbp_max_lst_mean :  0.2434\n",
      "diasbp_mean_lst_mean :  0.2415\n",
      "meanbp_min_lst_mean :  0.3287\n",
      "meanbp_max_lst_mean :  0.3329\n",
      "meanbp_mean_lst_mean :  0.3334\n",
      "resprate_min_lst_mean :  0.2683\n",
      "resprate_max_lst_mean :  0.2644\n",
      "resprate_mean_lst_mean :  0.2683\n",
      "tempc_min_lst_mean :  0.6686\n",
      "tempc_max_lst_mean :  0.6684\n",
      "tempc_mean_lst_mean :  0.6685\n",
      "spo2_min_lst_mean :  0.9353\n",
      "spo2_max_lst_mean :  0.9353\n",
      "spo2_mean_lst_mean :  0.9353\n",
      "glucose_min_lst_mean :  0.0171\n",
      "glucose_max_lst_mean :  0.0171\n",
      "glucose_mean_lst_mean :  0.0171\n",
      "heartrate_min_lst_sd :  0.0139\n",
      "heartrate_max_lst_sd :  0.0139\n",
      "heartrate_mean_lst_sd :  0.0139\n",
      "sysbp_min_lst_sd :  0.0418\n",
      "sysbp_max_lst_sd :  0.0381\n",
      "sysbp_mean_lst_sd :  0.0365\n",
      "diasbp_min_lst_sd :  0.0489\n",
      "diasbp_max_lst_sd :  0.0525\n",
      "diasbp_mean_lst_sd :  0.0495\n",
      "meanbp_min_lst_sd :  0.0428\n",
      "meanbp_max_lst_sd :  0.0441\n",
      "meanbp_mean_lst_sd :  0.0424\n",
      "resprate_min_lst_sd :  0.0432\n",
      "resprate_max_lst_sd :  0.0425\n",
      "resprate_mean_lst_sd :  0.0432\n",
      "tempc_min_lst_sd :  0.0303\n",
      "tempc_max_lst_sd :  0.0303\n",
      "tempc_mean_lst_sd :  0.0303\n",
      "spo2_min_lst_sd :  0.0358\n",
      "spo2_max_lst_sd :  0.0358\n",
      "spo2_mean_lst_sd :  0.0358\n",
      "glucose_min_lst_sd :  0.0001\n",
      "glucose_max_lst_sd :  0.0001\n",
      "glucose_mean_lst_sd :  0.0001\n",
      "heartrate_min_lst_delta :  -0.0001\n",
      "heartrate_max_lst_delta :  -0.0001\n",
      "heartrate_mean_lst_delta :  -0.0001\n",
      "sysbp_min_lst_delta :  0.0\n",
      "sysbp_max_lst_delta :  0.0\n",
      "sysbp_mean_lst_delta :  0.0\n",
      "diasbp_min_lst_delta :  -0.0001\n",
      "diasbp_max_lst_delta :  -0.0\n",
      "diasbp_mean_lst_delta :  -0.0001\n",
      "meanbp_min_lst_delta :  -0.0001\n",
      "meanbp_max_lst_delta :  -0.0\n",
      "meanbp_mean_lst_delta :  -0.0\n",
      "resprate_min_lst_delta :  0.0001\n",
      "resprate_max_lst_delta :  0.0001\n",
      "resprate_mean_lst_delta :  0.0001\n",
      "tempc_min_lst_delta :  -0.0001\n",
      "tempc_max_lst_delta :  -0.0001\n",
      "tempc_mean_lst_delta :  -0.0001\n",
      "spo2_min_lst_delta :  0.0\n",
      "spo2_max_lst_delta :  0.0\n",
      "spo2_mean_lst_delta :  0.0\n",
      "glucose_min_lst_delta :  0.0\n",
      "glucose_max_lst_delta :  0.0\n",
      "glucose_mean_lst_delta :  0.0\n",
      "heartrate_min_lst_min :  0.2402\n",
      "heartrate_max_lst_min :  0.2402\n",
      "heartrate_mean_lst_min :  0.2402\n",
      "sysbp_min_lst_min :  0.32\n",
      "sysbp_max_lst_min :  0.32\n",
      "sysbp_mean_lst_min :  0.32\n",
      "diasbp_min_lst_min :  0.1659\n",
      "diasbp_max_lst_min :  0.1643\n",
      "diasbp_mean_lst_min :  0.166\n",
      "meanbp_min_lst_min :  0.2246\n",
      "meanbp_max_lst_min :  0.2201\n",
      "meanbp_mean_lst_min :  0.2241\n",
      "resprate_min_lst_min :  0.1493\n",
      "resprate_max_lst_min :  0.1471\n",
      "resprate_mean_lst_min :  0.1493\n",
      "tempc_min_lst_min :  0.6251\n",
      "tempc_max_lst_min :  0.6249\n",
      "tempc_mean_lst_min :  0.625\n",
      "spo2_min_lst_min :  0.8414\n",
      "spo2_max_lst_min :  0.8414\n",
      "spo2_mean_lst_min :  0.8414\n",
      "glucose_min_lst_min :  0.0169\n",
      "glucose_max_lst_min :  0.0169\n",
      "glucose_mean_lst_min :  0.0169\n",
      "heartrate_min_lst_max :  0.2996\n",
      "heartrate_max_lst_max :  0.2996\n",
      "heartrate_mean_lst_max :  0.2996\n",
      "sysbp_min_lst_max :  0.4808\n",
      "sysbp_max_lst_max :  0.4865\n",
      "sysbp_mean_lst_max :  0.4808\n",
      "diasbp_min_lst_max :  0.4684\n",
      "diasbp_max_lst_max :  0.4639\n",
      "diasbp_mean_lst_max :  0.4687\n",
      "meanbp_min_lst_max :  0.4737\n",
      "meanbp_max_lst_max :  0.4642\n",
      "meanbp_mean_lst_max :  0.4726\n",
      "resprate_min_lst_max :  0.3284\n",
      "resprate_max_lst_max :  0.3235\n",
      "resprate_mean_lst_max :  0.3284\n",
      "tempc_min_lst_max :  0.7486\n",
      "tempc_max_lst_max :  0.7485\n",
      "tempc_mean_lst_max :  0.7486\n",
      "spo2_min_lst_max :  1.0\n",
      "spo2_max_lst_max :  1.0\n",
      "spo2_mean_lst_max :  1.0\n",
      "glucose_min_lst_max :  0.0173\n",
      "glucose_max_lst_max :  0.0173\n",
      "glucose_mean_lst_max :  0.0173\n",
      "heartrate_min_lst_mm :  0\n",
      "heartrate_max_lst_mm :  0\n",
      "heartrate_mean_lst_mm :  0\n",
      "sysbp_min_lst_mm :  0\n",
      "sysbp_max_lst_mm :  0\n",
      "sysbp_mean_lst_mm :  0\n",
      "diasbp_min_lst_mm :  0\n",
      "diasbp_max_lst_mm :  0\n",
      "diasbp_mean_lst_mm :  0\n",
      "meanbp_min_lst_mm :  0\n",
      "meanbp_max_lst_mm :  0\n",
      "meanbp_mean_lst_mm :  0\n",
      "resprate_min_lst_mm :  0\n",
      "resprate_max_lst_mm :  0\n",
      "resprate_mean_lst_mm :  0\n",
      "tempc_min_lst_mm :  0\n",
      "tempc_max_lst_mm :  0\n",
      "tempc_mean_lst_mm :  0\n",
      "spo2_min_lst_mm :  0\n",
      "spo2_max_lst_mm :  0\n",
      "spo2_mean_lst_mm :  0\n",
      "glucose_min_lst_mm :  0\n",
      "glucose_max_lst_mm :  0\n",
      "glucose_mean_lst_mm :  0\n",
      "ndc_list :  []\n"
     ]
    }
   ],
   "execution_count": 14
  },
  {
   "metadata": {
    "ExecuteTime": {
     "end_time": "2024-11-11T12:53:47.410671Z",
     "start_time": "2024-11-11T12:53:46.476377Z"
    }
   },
   "cell_type": "code",
   "source": [
    "i = 0\n",
    "with open('patients_full.json') as f:\n",
    "    with open('patients_test.json', 'w') as f2:\n",
    "        for line in f.readlines():\n",
    "            i += 1\n",
    "            if i == 20:\n",
    "                break\n",
    "            f2.write(line)"
   ],
   "id": "34c9f5e8bb1f3b5c",
   "outputs": [],
   "execution_count": 17
  },
  {
   "metadata": {},
   "cell_type": "code",
   "outputs": [],
   "execution_count": null,
   "source": "",
   "id": "96f3f3ec19f166cc"
  }
 ],
 "metadata": {
  "kernelspec": {
   "display_name": "Python 3",
   "language": "python",
   "name": "python3"
  },
  "language_info": {
   "codemirror_mode": {
    "name": "ipython",
    "version": 2
   },
   "file_extension": ".py",
   "mimetype": "text/x-python",
   "name": "python",
   "nbconvert_exporter": "python",
   "pygments_lexer": "ipython2",
   "version": "2.7.6"
  }
 },
 "nbformat": 4,
 "nbformat_minor": 5
}
